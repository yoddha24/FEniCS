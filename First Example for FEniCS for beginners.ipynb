{
 "cells": [
  {
   "cell_type": "markdown",
   "metadata": {},
   "source": [
    "# First example for FEniCS"
   ]
  },
  {
   "cell_type": "markdown",
   "metadata": {},
   "source": [
    "Dr. Sandeep Nagar, 3rd July 2017"
   ]
  },
  {
   "cell_type": "markdown",
   "metadata": {},
   "source": [
    "Ref: A Fenics tutorial, pp. 5"
   ]
  },
  {
   "cell_type": "markdown",
   "metadata": {},
   "source": [
    "# FEniCS program to solve Poisson equation in 2D case"
   ]
  },
  {
   "cell_type": "markdown",
   "metadata": {},
   "source": [
    "## Importing `dolfin` package"
   ]
  },
  {
   "cell_type": "code",
   "execution_count": 1,
   "metadata": {
    "collapsed": true
   },
   "outputs": [],
   "source": [
    "from dolfin import *"
   ]
  },
  {
   "cell_type": "markdown",
   "metadata": {},
   "source": [
    "* `dolfin` is a python package providing access to C++ library `DOLFIN` (which provides means for efficient finite element computing.\n",
    "* `DOLFIN` is part of `FEniCS` project which is used for \"writing FEM programs\" in an intuitive fashion"
   ]
  },
  {
   "cell_type": "markdown",
   "metadata": {},
   "source": [
    "## Creating a Mesh"
   ]
  },
  {
   "cell_type": "code",
   "execution_count": 2,
   "metadata": {
    "collapsed": true
   },
   "outputs": [],
   "source": [
    "#Creating Mesh\n",
    "mesh = UnitSquareMesh(6,4) # A rectangle made up of 6 x 4 array of squares of unit length"
   ]
  },
  {
   "cell_type": "code",
   "execution_count": 4,
   "metadata": {},
   "outputs": [
    {
     "data": {
      "image/svg+xml": [
       "\n",
       "    <svg xmlns=\"http://www.w3.org/2000/svg\" version=\"1.1\" width=\"840\" height=\"840\">\n",
       "    <line x1=\"20\" y1=\"820\" x2=\"153\" y2=\"820\" style=\"fill:none; stroke:black; stroke-width:\"2\" />\n",
       "<line x1=\"20\" y1=\"820\" x2=\"20\" y2=\"620\" style=\"fill:none; stroke:black; stroke-width:\"2\" />\n",
       "<line x1=\"20\" y1=\"820\" x2=\"153\" y2=\"620\" style=\"fill:none; stroke:black; stroke-width:\"2\" />\n",
       "<line x1=\"153\" y1=\"820\" x2=\"286\" y2=\"820\" style=\"fill:none; stroke:black; stroke-width:\"2\" />\n",
       "<line x1=\"153\" y1=\"820\" x2=\"153\" y2=\"620\" style=\"fill:none; stroke:black; stroke-width:\"2\" />\n",
       "<line x1=\"153\" y1=\"820\" x2=\"286\" y2=\"620\" style=\"fill:none; stroke:black; stroke-width:\"2\" />\n",
       "<line x1=\"286\" y1=\"820\" x2=\"420\" y2=\"820\" style=\"fill:none; stroke:black; stroke-width:\"2\" />\n",
       "<line x1=\"286\" y1=\"820\" x2=\"286\" y2=\"620\" style=\"fill:none; stroke:black; stroke-width:\"2\" />\n",
       "<line x1=\"286\" y1=\"820\" x2=\"420\" y2=\"620\" style=\"fill:none; stroke:black; stroke-width:\"2\" />\n",
       "<line x1=\"420\" y1=\"820\" x2=\"553\" y2=\"820\" style=\"fill:none; stroke:black; stroke-width:\"2\" />\n",
       "<line x1=\"420\" y1=\"820\" x2=\"420\" y2=\"620\" style=\"fill:none; stroke:black; stroke-width:\"2\" />\n",
       "<line x1=\"420\" y1=\"820\" x2=\"553\" y2=\"620\" style=\"fill:none; stroke:black; stroke-width:\"2\" />\n",
       "<line x1=\"553\" y1=\"820\" x2=\"686\" y2=\"820\" style=\"fill:none; stroke:black; stroke-width:\"2\" />\n",
       "<line x1=\"553\" y1=\"820\" x2=\"553\" y2=\"620\" style=\"fill:none; stroke:black; stroke-width:\"2\" />\n",
       "<line x1=\"553\" y1=\"820\" x2=\"686\" y2=\"620\" style=\"fill:none; stroke:black; stroke-width:\"2\" />\n",
       "<line x1=\"686\" y1=\"820\" x2=\"820\" y2=\"820\" style=\"fill:none; stroke:black; stroke-width:\"2\" />\n",
       "<line x1=\"686\" y1=\"820\" x2=\"686\" y2=\"620\" style=\"fill:none; stroke:black; stroke-width:\"2\" />\n",
       "<line x1=\"686\" y1=\"820\" x2=\"820\" y2=\"620\" style=\"fill:none; stroke:black; stroke-width:\"2\" />\n",
       "<line x1=\"820\" y1=\"820\" x2=\"820\" y2=\"620\" style=\"fill:none; stroke:black; stroke-width:\"2\" />\n",
       "<line x1=\"20\" y1=\"620\" x2=\"153\" y2=\"620\" style=\"fill:none; stroke:black; stroke-width:\"2\" />\n",
       "<line x1=\"20\" y1=\"620\" x2=\"20\" y2=\"420\" style=\"fill:none; stroke:black; stroke-width:\"2\" />\n",
       "<line x1=\"20\" y1=\"620\" x2=\"153\" y2=\"420\" style=\"fill:none; stroke:black; stroke-width:\"2\" />\n",
       "<line x1=\"153\" y1=\"620\" x2=\"286\" y2=\"620\" style=\"fill:none; stroke:black; stroke-width:\"2\" />\n",
       "<line x1=\"153\" y1=\"620\" x2=\"153\" y2=\"420\" style=\"fill:none; stroke:black; stroke-width:\"2\" />\n",
       "<line x1=\"153\" y1=\"620\" x2=\"286\" y2=\"420\" style=\"fill:none; stroke:black; stroke-width:\"2\" />\n",
       "<line x1=\"286\" y1=\"620\" x2=\"420\" y2=\"620\" style=\"fill:none; stroke:black; stroke-width:\"2\" />\n",
       "<line x1=\"286\" y1=\"620\" x2=\"286\" y2=\"420\" style=\"fill:none; stroke:black; stroke-width:\"2\" />\n",
       "<line x1=\"286\" y1=\"620\" x2=\"420\" y2=\"420\" style=\"fill:none; stroke:black; stroke-width:\"2\" />\n",
       "<line x1=\"420\" y1=\"620\" x2=\"553\" y2=\"620\" style=\"fill:none; stroke:black; stroke-width:\"2\" />\n",
       "<line x1=\"420\" y1=\"620\" x2=\"420\" y2=\"420\" style=\"fill:none; stroke:black; stroke-width:\"2\" />\n",
       "<line x1=\"420\" y1=\"620\" x2=\"553\" y2=\"420\" style=\"fill:none; stroke:black; stroke-width:\"2\" />\n",
       "<line x1=\"553\" y1=\"620\" x2=\"686\" y2=\"620\" style=\"fill:none; stroke:black; stroke-width:\"2\" />\n",
       "<line x1=\"553\" y1=\"620\" x2=\"553\" y2=\"420\" style=\"fill:none; stroke:black; stroke-width:\"2\" />\n",
       "<line x1=\"553\" y1=\"620\" x2=\"686\" y2=\"420\" style=\"fill:none; stroke:black; stroke-width:\"2\" />\n",
       "<line x1=\"686\" y1=\"620\" x2=\"820\" y2=\"620\" style=\"fill:none; stroke:black; stroke-width:\"2\" />\n",
       "<line x1=\"686\" y1=\"620\" x2=\"686\" y2=\"420\" style=\"fill:none; stroke:black; stroke-width:\"2\" />\n",
       "<line x1=\"686\" y1=\"620\" x2=\"820\" y2=\"420\" style=\"fill:none; stroke:black; stroke-width:\"2\" />\n",
       "<line x1=\"820\" y1=\"620\" x2=\"820\" y2=\"420\" style=\"fill:none; stroke:black; stroke-width:\"2\" />\n",
       "<line x1=\"20\" y1=\"420\" x2=\"153\" y2=\"420\" style=\"fill:none; stroke:black; stroke-width:\"2\" />\n",
       "<line x1=\"20\" y1=\"420\" x2=\"20\" y2=\"220\" style=\"fill:none; stroke:black; stroke-width:\"2\" />\n",
       "<line x1=\"20\" y1=\"420\" x2=\"153\" y2=\"220\" style=\"fill:none; stroke:black; stroke-width:\"2\" />\n",
       "<line x1=\"153\" y1=\"420\" x2=\"286\" y2=\"420\" style=\"fill:none; stroke:black; stroke-width:\"2\" />\n",
       "<line x1=\"153\" y1=\"420\" x2=\"153\" y2=\"220\" style=\"fill:none; stroke:black; stroke-width:\"2\" />\n",
       "<line x1=\"153\" y1=\"420\" x2=\"286\" y2=\"220\" style=\"fill:none; stroke:black; stroke-width:\"2\" />\n",
       "<line x1=\"286\" y1=\"420\" x2=\"420\" y2=\"420\" style=\"fill:none; stroke:black; stroke-width:\"2\" />\n",
       "<line x1=\"286\" y1=\"420\" x2=\"286\" y2=\"220\" style=\"fill:none; stroke:black; stroke-width:\"2\" />\n",
       "<line x1=\"286\" y1=\"420\" x2=\"420\" y2=\"220\" style=\"fill:none; stroke:black; stroke-width:\"2\" />\n",
       "<line x1=\"420\" y1=\"420\" x2=\"553\" y2=\"420\" style=\"fill:none; stroke:black; stroke-width:\"2\" />\n",
       "<line x1=\"420\" y1=\"420\" x2=\"420\" y2=\"220\" style=\"fill:none; stroke:black; stroke-width:\"2\" />\n",
       "<line x1=\"420\" y1=\"420\" x2=\"553\" y2=\"220\" style=\"fill:none; stroke:black; stroke-width:\"2\" />\n",
       "<line x1=\"553\" y1=\"420\" x2=\"686\" y2=\"420\" style=\"fill:none; stroke:black; stroke-width:\"2\" />\n",
       "<line x1=\"553\" y1=\"420\" x2=\"553\" y2=\"220\" style=\"fill:none; stroke:black; stroke-width:\"2\" />\n",
       "<line x1=\"553\" y1=\"420\" x2=\"686\" y2=\"220\" style=\"fill:none; stroke:black; stroke-width:\"2\" />\n",
       "<line x1=\"686\" y1=\"420\" x2=\"820\" y2=\"420\" style=\"fill:none; stroke:black; stroke-width:\"2\" />\n",
       "<line x1=\"686\" y1=\"420\" x2=\"686\" y2=\"220\" style=\"fill:none; stroke:black; stroke-width:\"2\" />\n",
       "<line x1=\"686\" y1=\"420\" x2=\"820\" y2=\"220\" style=\"fill:none; stroke:black; stroke-width:\"2\" />\n",
       "<line x1=\"820\" y1=\"420\" x2=\"820\" y2=\"220\" style=\"fill:none; stroke:black; stroke-width:\"2\" />\n",
       "<line x1=\"20\" y1=\"220\" x2=\"153\" y2=\"220\" style=\"fill:none; stroke:black; stroke-width:\"2\" />\n",
       "<line x1=\"20\" y1=\"220\" x2=\"20\" y2=\"20\" style=\"fill:none; stroke:black; stroke-width:\"2\" />\n",
       "<line x1=\"20\" y1=\"220\" x2=\"153\" y2=\"20\" style=\"fill:none; stroke:black; stroke-width:\"2\" />\n",
       "<line x1=\"153\" y1=\"220\" x2=\"286\" y2=\"220\" style=\"fill:none; stroke:black; stroke-width:\"2\" />\n",
       "<line x1=\"153\" y1=\"220\" x2=\"153\" y2=\"20\" style=\"fill:none; stroke:black; stroke-width:\"2\" />\n",
       "<line x1=\"153\" y1=\"220\" x2=\"286\" y2=\"20\" style=\"fill:none; stroke:black; stroke-width:\"2\" />\n",
       "<line x1=\"286\" y1=\"220\" x2=\"420\" y2=\"220\" style=\"fill:none; stroke:black; stroke-width:\"2\" />\n",
       "<line x1=\"286\" y1=\"220\" x2=\"286\" y2=\"20\" style=\"fill:none; stroke:black; stroke-width:\"2\" />\n",
       "<line x1=\"286\" y1=\"220\" x2=\"420\" y2=\"20\" style=\"fill:none; stroke:black; stroke-width:\"2\" />\n",
       "<line x1=\"420\" y1=\"220\" x2=\"553\" y2=\"220\" style=\"fill:none; stroke:black; stroke-width:\"2\" />\n",
       "<line x1=\"420\" y1=\"220\" x2=\"420\" y2=\"20\" style=\"fill:none; stroke:black; stroke-width:\"2\" />\n",
       "<line x1=\"420\" y1=\"220\" x2=\"553\" y2=\"20\" style=\"fill:none; stroke:black; stroke-width:\"2\" />\n",
       "<line x1=\"553\" y1=\"220\" x2=\"686\" y2=\"220\" style=\"fill:none; stroke:black; stroke-width:\"2\" />\n",
       "<line x1=\"553\" y1=\"220\" x2=\"553\" y2=\"20\" style=\"fill:none; stroke:black; stroke-width:\"2\" />\n",
       "<line x1=\"553\" y1=\"220\" x2=\"686\" y2=\"20\" style=\"fill:none; stroke:black; stroke-width:\"2\" />\n",
       "<line x1=\"686\" y1=\"220\" x2=\"820\" y2=\"220\" style=\"fill:none; stroke:black; stroke-width:\"2\" />\n",
       "<line x1=\"686\" y1=\"220\" x2=\"686\" y2=\"20\" style=\"fill:none; stroke:black; stroke-width:\"2\" />\n",
       "<line x1=\"686\" y1=\"220\" x2=\"820\" y2=\"20\" style=\"fill:none; stroke:black; stroke-width:\"2\" />\n",
       "<line x1=\"820\" y1=\"220\" x2=\"820\" y2=\"20\" style=\"fill:none; stroke:black; stroke-width:\"2\" />\n",
       "<line x1=\"20\" y1=\"20\" x2=\"153\" y2=\"20\" style=\"fill:none; stroke:black; stroke-width:\"2\" />\n",
       "<line x1=\"153\" y1=\"20\" x2=\"286\" y2=\"20\" style=\"fill:none; stroke:black; stroke-width:\"2\" />\n",
       "<line x1=\"286\" y1=\"20\" x2=\"420\" y2=\"20\" style=\"fill:none; stroke:black; stroke-width:\"2\" />\n",
       "<line x1=\"420\" y1=\"20\" x2=\"553\" y2=\"20\" style=\"fill:none; stroke:black; stroke-width:\"2\" />\n",
       "<line x1=\"553\" y1=\"20\" x2=\"686\" y2=\"20\" style=\"fill:none; stroke:black; stroke-width:\"2\" />\n",
       "<line x1=\"686\" y1=\"20\" x2=\"820\" y2=\"20\" style=\"fill:none; stroke:black; stroke-width:\"2\" />\n",
       "    <circle cx=\"20\" cy=\"820\" r=\"2\" stroke=\"black\" stroke-width=\"0\" fill=\"red\" />\n",
       "<circle cx=\"153\" cy=\"820\" r=\"2\" stroke=\"black\" stroke-width=\"0\" fill=\"red\" />\n",
       "<circle cx=\"286\" cy=\"820\" r=\"2\" stroke=\"black\" stroke-width=\"0\" fill=\"red\" />\n",
       "<circle cx=\"420\" cy=\"820\" r=\"2\" stroke=\"black\" stroke-width=\"0\" fill=\"red\" />\n",
       "<circle cx=\"553\" cy=\"820\" r=\"2\" stroke=\"black\" stroke-width=\"0\" fill=\"red\" />\n",
       "<circle cx=\"686\" cy=\"820\" r=\"2\" stroke=\"black\" stroke-width=\"0\" fill=\"red\" />\n",
       "<circle cx=\"820\" cy=\"820\" r=\"2\" stroke=\"black\" stroke-width=\"0\" fill=\"red\" />\n",
       "<circle cx=\"20\" cy=\"620\" r=\"2\" stroke=\"black\" stroke-width=\"0\" fill=\"red\" />\n",
       "<circle cx=\"153\" cy=\"620\" r=\"2\" stroke=\"black\" stroke-width=\"0\" fill=\"red\" />\n",
       "<circle cx=\"286\" cy=\"620\" r=\"2\" stroke=\"black\" stroke-width=\"0\" fill=\"red\" />\n",
       "<circle cx=\"420\" cy=\"620\" r=\"2\" stroke=\"black\" stroke-width=\"0\" fill=\"red\" />\n",
       "<circle cx=\"553\" cy=\"620\" r=\"2\" stroke=\"black\" stroke-width=\"0\" fill=\"red\" />\n",
       "<circle cx=\"686\" cy=\"620\" r=\"2\" stroke=\"black\" stroke-width=\"0\" fill=\"red\" />\n",
       "<circle cx=\"820\" cy=\"620\" r=\"2\" stroke=\"black\" stroke-width=\"0\" fill=\"red\" />\n",
       "<circle cx=\"20\" cy=\"420\" r=\"2\" stroke=\"black\" stroke-width=\"0\" fill=\"red\" />\n",
       "<circle cx=\"153\" cy=\"420\" r=\"2\" stroke=\"black\" stroke-width=\"0\" fill=\"red\" />\n",
       "<circle cx=\"286\" cy=\"420\" r=\"2\" stroke=\"black\" stroke-width=\"0\" fill=\"red\" />\n",
       "<circle cx=\"420\" cy=\"420\" r=\"2\" stroke=\"black\" stroke-width=\"0\" fill=\"red\" />\n",
       "<circle cx=\"553\" cy=\"420\" r=\"2\" stroke=\"black\" stroke-width=\"0\" fill=\"red\" />\n",
       "<circle cx=\"686\" cy=\"420\" r=\"2\" stroke=\"black\" stroke-width=\"0\" fill=\"red\" />\n",
       "<circle cx=\"820\" cy=\"420\" r=\"2\" stroke=\"black\" stroke-width=\"0\" fill=\"red\" />\n",
       "<circle cx=\"20\" cy=\"220\" r=\"2\" stroke=\"black\" stroke-width=\"0\" fill=\"red\" />\n",
       "<circle cx=\"153\" cy=\"220\" r=\"2\" stroke=\"black\" stroke-width=\"0\" fill=\"red\" />\n",
       "<circle cx=\"286\" cy=\"220\" r=\"2\" stroke=\"black\" stroke-width=\"0\" fill=\"red\" />\n",
       "<circle cx=\"420\" cy=\"220\" r=\"2\" stroke=\"black\" stroke-width=\"0\" fill=\"red\" />\n",
       "<circle cx=\"553\" cy=\"220\" r=\"2\" stroke=\"black\" stroke-width=\"0\" fill=\"red\" />\n",
       "<circle cx=\"686\" cy=\"220\" r=\"2\" stroke=\"black\" stroke-width=\"0\" fill=\"red\" />\n",
       "<circle cx=\"820\" cy=\"220\" r=\"2\" stroke=\"black\" stroke-width=\"0\" fill=\"red\" />\n",
       "<circle cx=\"20\" cy=\"20\" r=\"2\" stroke=\"black\" stroke-width=\"0\" fill=\"red\" />\n",
       "<circle cx=\"153\" cy=\"20\" r=\"2\" stroke=\"black\" stroke-width=\"0\" fill=\"red\" />\n",
       "<circle cx=\"286\" cy=\"20\" r=\"2\" stroke=\"black\" stroke-width=\"0\" fill=\"red\" />\n",
       "<circle cx=\"420\" cy=\"20\" r=\"2\" stroke=\"black\" stroke-width=\"0\" fill=\"red\" />\n",
       "<circle cx=\"553\" cy=\"20\" r=\"2\" stroke=\"black\" stroke-width=\"0\" fill=\"red\" />\n",
       "<circle cx=\"686\" cy=\"20\" r=\"2\" stroke=\"black\" stroke-width=\"0\" fill=\"red\" />\n",
       "<circle cx=\"820\" cy=\"20\" r=\"2\" stroke=\"black\" stroke-width=\"0\" fill=\"red\" />\n",
       "    </svg>\n",
       "    "
      ],
      "text/html": [
       "<!DOCTYPE html>\n",
       "<html>\n",
       "  <head>\n",
       "    <meta http-equiv=\"content-type\" content=\"text/html;charset=UTF-8\" />\n",
       "    <meta name=\"generator\" content=\"FEniCS/DOLFIN (http://fenicsproject.org)\" />\n",
       "    <title>FEniCS/DOLFIN X3DOM plot</title>\n",
       "    <script type=\"text/javascript\" src=\"https://www.x3dom.org/download/x3dom.js\"></script>\n",
       "    <script type=\"text/javascript\" src=\"https://code.jquery.com/jquery-3.1.0.js\"></script>\n",
       "    <script type=\"text/javascript\" src=\"https://rawgit.com/plscott/fenics-x3dom/master/x3dom_support.js\"></script>\n",
       "    <link rel=\"stylesheet\" type=\"text/css\" href=\"https://www.x3dom.org/download/x3dom.css\" />\n",
       "    <link rel=\"stylesheet\" type=\"text/css\" href=\"https://rawgit.com/plscott/fenics-x3dom/master/x3dom_support.css\" />\n",
       "  </head>\n",
       "  <body>\n",
       "    <x3d showStat=\"false\" xmlns=\"http://www.web3d.org/specifications/x3d-namespace\" width=\"500.000000px\" height=\"400.000000px\">\n",
       "      <scene>\n",
       "        <shape>\n",
       "          <appearance>\n",
       "            <material diffuseColor=\"1.000000 1.000000 1.000000\" emissiveColor=\"0.000000 0.000000 0.000000\" specularColor=\"0.000000 0.000000 0.000000\" ambientIntensity=\"0\" shininess=\"0.5\" transparency=\"0\"></material>\n",
       "          </appearance>\n",
       "          <indexedFaceSet solid=\"false\" colorPerVertex=\"false\" coordIndex=\"0 1 8 -1 0 7 8 -1 1 2 9 -1 1 8 9 -1 2 3 10 -1 2 9 10 -1 3 4 11 -1 3 10 11 -1 4 5 12 -1 4 11 12 -1 5 6 13 -1 5 12 13 -1 7 8 15 -1 7 14 15 -1 8 9 16 -1 8 15 16 -1 9 10 17 -1 9 16 17 -1 10 11 18 -1 10 17 18 -1 11 12 19 -1 11 18 19 -1 12 13 20 -1 12 19 20 -1 14 15 22 -1 14 21 22 -1 15 16 23 -1 15 22 23 -1 16 17 24 -1 16 23 24 -1 17 18 25 -1 17 24 25 -1 18 19 26 -1 18 25 26 -1 19 20 27 -1 19 26 27 -1 21 22 29 -1 21 28 29 -1 22 23 30 -1 22 29 30 -1 23 24 31 -1 23 30 31 -1 24 25 32 -1 24 31 32 -1 25 26 33 -1 25 32 33 -1 26 27 34 -1 26 33 34 -1 \">\n",
       "            <coordinate point=\"0 0 0 0.166667 0 0 0.333333 0 0 0.5 0 0 0.666667 0 0 0.833333 0 0 1 0 0 0 0.25 0 0.166667 0.25 0 0.333333 0.25 0 0.5 0.25 0 0.666667 0.25 0 0.833333 0.25 0 1 0.25 0 0 0.5 0 0.166667 0.5 0 0.333333 0.5 0 0.5 0.5 0 0.666667 0.5 0 0.833333 0.5 0 1 0.5 0 0 0.75 0 0.166667 0.75 0 0.333333 0.75 0 0.5 0.75 0 0.666667 0.75 0 0.833333 0.75 0 1 0.75 0 0 1 0 0.166667 1 0 0.333333 1 0 0.5 1 0 0.666667 1 0 0.833333 1 0 1 1 0 \"></coordinate>\n",
       "          </indexedFaceSet>\n",
       "        </shape>\n",
       "        <shape>\n",
       "          <appearance>\n",
       "            <material emissiveColor=\"0.000000 0.000000 0.000000\" specularColor=\"0.000000 0.000000 0.000000\" ambientIntensity=\"0\" shininess=\"0.5\" transparency=\"0\"></material>\n",
       "          </appearance>\n",
       "          <indexedLineSet solid=\"false\" colorPerVertex=\"false\" coordIndex=\"0 1 -1 0 7 -1 0 8 -1 1 2 -1 1 8 -1 1 9 -1 2 3 -1 2 9 -1 2 10 -1 3 4 -1 3 10 -1 3 11 -1 4 5 -1 4 11 -1 4 12 -1 5 6 -1 5 12 -1 5 13 -1 6 13 -1 7 8 -1 7 14 -1 7 15 -1 8 9 -1 8 15 -1 8 16 -1 9 10 -1 9 16 -1 9 17 -1 10 11 -1 10 17 -1 10 18 -1 11 12 -1 11 18 -1 11 19 -1 12 13 -1 12 19 -1 12 20 -1 13 20 -1 14 15 -1 14 21 -1 14 22 -1 15 16 -1 15 22 -1 15 23 -1 16 17 -1 16 23 -1 16 24 -1 17 18 -1 17 24 -1 17 25 -1 18 19 -1 18 25 -1 18 26 -1 19 20 -1 19 26 -1 19 27 -1 20 27 -1 21 22 -1 21 28 -1 21 29 -1 22 23 -1 22 29 -1 22 30 -1 23 24 -1 23 30 -1 23 31 -1 24 25 -1 24 31 -1 24 32 -1 25 26 -1 25 32 -1 25 33 -1 26 27 -1 26 33 -1 26 34 -1 27 34 -1 28 29 -1 29 30 -1 30 31 -1 31 32 -1 32 33 -1 33 34 -1 \">\n",
       "            <coordinate point=\"0 0 0 0.166667 0 0 0.333333 0 0 0.5 0 0 0.666667 0 0 0.833333 0 0 1 0 0 0 0.25 0 0.166667 0.25 0 0.333333 0.25 0 0.5 0.25 0 0.666667 0.25 0 0.833333 0.25 0 1 0.25 0 0 0.5 0 0.166667 0.5 0 0.333333 0.5 0 0.5 0.5 0 0.666667 0.5 0 0.833333 0.5 0 1 0.5 0 0 0.75 0 0.166667 0.75 0 0.333333 0.75 0 0.5 0.75 0 0.666667 0.75 0 0.833333 0.75 0 1 0.75 0 0 1 0 0.166667 1 0 0.333333 1 0 0.5 1 0 0.666667 1 0 0.833333 1 0 1 1 0 \"></coordinate>\n",
       "          </indexedLineSet>\n",
       "        </shape>\n",
       "        <viewpoint id=\"default\" position=\"1.914214 1.914214 1.414214\" orientation=\"-0.7071067812 0.7071067812 0 1\" fieldOfView=\"0.785398\" centerOfRotation=\"0.500000 0.500000 0.000000\" zNear=\"-1\" zFar=\"-1\"></viewpoint>\n",
       "        <viewpoint id=\"top\" position=\"0.500000 2.500000 0.000000\" orientation=\"-1 0 0 1.5707963267948\" fieldOfView=\"0.785398\" centerOfRotation=\"0.500000 0.500000 0.000000\" zNear=\"-1\" zFar=\"-1\"></viewpoint>\n",
       "        <viewpoint id=\"bottom\" position=\"0.500000 -1.500000 0.000000\" orientation=\"1 0 0 1.5707963267948\" fieldOfView=\"0.785398\" centerOfRotation=\"0.500000 0.500000 0.000000\" zNear=\"-1\" zFar=\"-1\"></viewpoint>\n",
       "        <viewpoint id=\"left\" position=\"2.500000 0.500000 0.000000\" orientation=\"0 1 0 1.5707963267948\" fieldOfView=\"0.785398\" centerOfRotation=\"0.500000 0.500000 0.000000\" zNear=\"-1\" zFar=\"-1\"></viewpoint>\n",
       "        <viewpoint id=\"right\" position=\"-1.500000 0.500000 0.000000\" orientation=\"0 -1 0 1.5707963267948\" fieldOfView=\"0.785398\" centerOfRotation=\"0.500000 0.500000 0.000000\" zNear=\"-1\" zFar=\"-1\"></viewpoint>\n",
       "        <viewpoint id=\"back\" position=\"0.500000 0.500000 -2.000000\" orientation=\"0 1 0 3.1415926535898\" fieldOfView=\"0.785398\" centerOfRotation=\"0.500000 0.500000 0.000000\" zNear=\"-1\" zFar=\"-1\"></viewpoint>\n",
       "        <viewpoint id=\"front\" position=\"0.500000 0.500000 2.000000\" orientation=\"0 0 0 1\" fieldOfView=\"0.785398\" centerOfRotation=\"0.500000 0.500000 0.000000\" zNear=\"-1\" zFar=\"-1\"></viewpoint>\n",
       "        <background skyColor=\"0.950000 0.950000 0.950000\"></background>\n",
       "        <directionalLight ambientIntensity=\"0\" intensity=\"1\"></directionalLight>\n",
       "      </scene>\n",
       "    </x3d>\n",
       "    <div id=\"menu\"><form id=\"menu-items\"><input type=\"radio\" id=\"button-options\" name=\"menu\" checked=\"\" />\n",
       "        <label for=\"button-options\">Options</label>\n",
       "        <input type=\"radio\" id=\"button-summary\" name=\"menu\" />\n",
       "        <label for=\"button-summary\" style=\"display: none;\">Summary</label>\n",
       "        <input type=\"radio\" id=\"button-color\" name=\"menu\" />\n",
       "        <label for=\"button-color\" style=\"display: none;\">Color</label>\n",
       "        <input type=\"radio\" id=\"button-warp\" name=\"menu\" />\n",
       "        <label for=\"button-warp\" style=\"display: none;\">Warp</label>\n",
       "        <input type=\"radio\" id=\"button-viewpoints\" name=\"menu\" />\n",
       "        <label for=\"button-viewpoints\" style=\"display: none;\">Viewpoints</label>\n",
       "      </form>\n",
       "      <div id=\"menu-content\"><div id=\"content-options\" for=\"button-options\"><span>Menu Options</span>\n",
       "          <br />\n",
       "          <form class=\"options\"><input type=\"checkbox\" id=\"select-summary\" />\n",
       "            <label for=\"select-summary\">Summary</label>\n",
       "          </form>\n",
       "          <br />\n",
       "          <form class=\"options\"><input type=\"checkbox\" id=\"select-color\" />\n",
       "            <label for=\"select-color\">Color</label>\n",
       "          </form>\n",
       "          <br />\n",
       "          <form class=\"options\"><input type=\"checkbox\" id=\"select-warp\" />\n",
       "            <label for=\"select-warp\">Warp</label>\n",
       "          </form>\n",
       "          <br />\n",
       "          <form class=\"options\"><input type=\"checkbox\" id=\"select-viewpoints\" />\n",
       "            <label for=\"select-viewpoints\">Viewpoints</label>\n",
       "          </form>\n",
       "        </div>\n",
       "        <div id=\"content-summary\" for=\"button-summary\" hidden=\"\">Number of vertices: 35<br />Number of cells: 48</div>\n",
       "        <div id=\"content-color\" for=\"button-color\" hidden=\"\"><form>\n",
       "            <input id=\"color-checkbox\" type=\"checkbox\" checked=\"\" />\n",
       "            <label for=\"color-checkbox\">Show Color</label>\n",
       "          </form>Current Color Map:<br />\n",
       "          <span id=\"min-color-value\"></span>\n",
       "          <span id=\"color-map\"></span>\n",
       "          <span id=\"max-color-value\"></span>\n",
       "        </div>\n",
       "        <div id=\"content-warp\" for=\"button-warp\" hidden=\"\"><form>\n",
       "            <input id=\"warp-checkbox\" type=\"checkbox\" />\n",
       "            <label for=\"warp-checkbox\">Warp By Scalar</label>\n",
       "            <br />\n",
       "            <input id=\"warp-slider\" type=\"range\" min=\"0\" max=\"5\" step=\"0.01\" value=\"1\" disabled=\"\" />\n",
       "            <br />\n",
       "            <label id=\"warp-slider-val\" for=\"warp-slider\">1</label>\n",
       "          </form>\n",
       "        </div>\n",
       "        <div id=\"content-viewpoints\" for=\"button-viewpoints\" hidden=\"\"><span>Viewpoint Options</span>\n",
       "          <br />\n",
       "          <button class=\"viewpoint\">front</button>\n",
       "          <button class=\"viewpoint\">back</button>\n",
       "          <button class=\"viewpoint\">left</button>\n",
       "          <br />\n",
       "          <button class=\"viewpoint\">right</button>\n",
       "          <button class=\"viewpoint\">top</button>\n",
       "          <button class=\"viewpoint\">bottom</button>\n",
       "        </div>\n",
       "      </div>\n",
       "    </div>\n",
       "  </body>\n",
       "</html>\n"
      ],
      "text/plain": [
       "<dolfin.cpp.mesh.UnitSquareMesh; proxy of <Swig Object of type 'std::shared_ptr< dolfin::UnitSquareMesh > *' at 0x11164e300> >"
      ]
     },
     "execution_count": 4,
     "metadata": {},
     "output_type": "execute_result"
    }
   ],
   "source": [
    "mesh"
   ]
  },
  {
   "cell_type": "markdown",
   "metadata": {},
   "source": [
    "* As can be seen by figure above, the function `UnitSquareMesh` creates an array of $6 \\times 4$ array of squares (with unit length. \n",
    "* There are $6 \\times 4 = 28$ cells.\n",
    "* There are $7 \\times 5 = 35$ vertices\n",
    "* Each cell (unit square) is composed of triangles with straight sides.\n",
    "* More information about usage of this function can be obtained using `help` command as follows:"
   ]
  },
  {
   "cell_type": "code",
   "execution_count": 8,
   "metadata": {},
   "outputs": [
    {
     "name": "stdout",
     "output_type": "stream",
     "text": [
      "Help on class UnitSquareMesh in module dolfin.cpp.mesh:\n",
      "\n",
      "class UnitSquareMesh(RectangleMesh)\n",
      " |  Dummy docstring. Reason: Missing doxygen\n",
      " |  \n",
      " |  Method resolution order:\n",
      " |      UnitSquareMesh\n",
      " |      RectangleMesh\n",
      " |      Mesh\n",
      " |      dolfin.cpp.common.Variable\n",
      " |      HierarchicalMesh\n",
      " |      builtins.object\n",
      " |  \n",
      " |  Methods defined here:\n",
      " |  \n",
      " |  __init__(self, *args)\n",
      " |      Dummy docstring. Reason: Missing doxygen\n",
      " |  \n",
      " |  __repr__ = _swig_repr(self)\n",
      " |  \n",
      " |  __swig_destroy__ = delete_UnitSquareMesh(...)\n",
      " |  \n",
      " |  ----------------------------------------------------------------------\n",
      " |  Data descriptors defined here:\n",
      " |  \n",
      " |  thisown\n",
      " |      The membership flag\n",
      " |  \n",
      " |  ----------------------------------------------------------------------\n",
      " |  Methods inherited from Mesh:\n",
      " |  \n",
      " |  __cppinit__ = __init__(self, *args)\n",
      " |      Dummy docstring. Reason: Missing doxygen\n",
      " |  \n",
      " |  bounding_box_tree = Mesh_bounding_box_tree(...)\n",
      " |      Dummy docstring. Reason: Missing doxygen\n",
      " |  \n",
      " |  cell_orientations(self)\n",
      " |      Get the cell orientations set.\n",
      " |      \n",
      " |      *Returns*\n",
      " |          numpy.array(int)\n",
      " |              Cell orientations\n",
      " |  \n",
      " |  cells(self)\n",
      " |      Get cell connectivity.\n",
      " |      \n",
      " |      *Returns*\n",
      " |          numpy.array(int)\n",
      " |              Connectivity for all cells.\n",
      " |      \n",
      " |      *Example*\n",
      " |          .. code-block:: python\n",
      " |      \n",
      " |              >>> mesh = dolfin.UnitSquare(1,1)\n",
      " |              >>> mesh.cells()\n",
      " |              array([[0, 1, 3],\n",
      " |                    [0, 2, 3]])\n",
      " |  \n",
      " |  clean = Mesh_clean(...)\n",
      " |      Dummy docstring. Reason: Missing doxygen\n",
      " |  \n",
      " |  color = Mesh_color(...)\n",
      " |      Dummy docstring. Reason: Missing doxygen\n",
      " |  \n",
      " |  coordinates(self)\n",
      " |      * coordinates\\ ()\n",
      " |      \n",
      " |        Get vertex coordinates.\n",
      " |      \n",
      " |        *Returns*\n",
      " |            numpy.array(float)\n",
      " |                Coordinates of all vertices.\n",
      " |      \n",
      " |        *Example*\n",
      " |            .. code-block:: python\n",
      " |      \n",
      " |                >>> mesh = dolfin.UnitSquare(1,1)\n",
      " |                >>> mesh.coordinates()\n",
      " |                array([[ 0.,  0.],\n",
      " |                       [ 1.,  0.],\n",
      " |                       [ 0.,  1.],\n",
      " |                       [ 1.,  1.]])\n",
      " |  \n",
      " |  data = Mesh_data(...)\n",
      " |      Dummy docstring. Reason: Missing doxygen\n",
      " |  \n",
      " |  domains = Mesh_domains(...)\n",
      " |      Dummy docstring. Reason: Missing doxygen\n",
      " |  \n",
      " |  geometry = Mesh_geometry(...)\n",
      " |      Dummy docstring. Reason: Missing doxygen\n",
      " |  \n",
      " |  ghost_mode = Mesh_ghost_mode(...)\n",
      " |      Dummy docstring. Reason: Missing doxygen\n",
      " |  \n",
      " |  hash = Mesh_hash(...)\n",
      " |      Dummy docstring. Reason: Missing doxygen\n",
      " |  \n",
      " |  hmax = Mesh_hmax(...)\n",
      " |      Dummy docstring. Reason: Missing doxygen\n",
      " |  \n",
      " |  hmin = Mesh_hmin(...)\n",
      " |      Dummy docstring. Reason: Missing doxygen\n",
      " |  \n",
      " |  init = Mesh_init(...)\n",
      " |      Dummy docstring. Reason: Missing doxygen\n",
      " |  \n",
      " |  init_cell_orientations = Mesh_init_cell_orientations(...)\n",
      " |      Dummy docstring. Reason: Missing doxygen\n",
      " |  \n",
      " |  init_global = Mesh_init_global(...)\n",
      " |      Dummy docstring. Reason: Missing doxygen\n",
      " |  \n",
      " |  mpi_comm = Mesh_mpi_comm(...)\n",
      " |      Dummy docstring. Reason: Missing doxygen\n",
      " |  \n",
      " |  num_cells = Mesh_num_cells(...)\n",
      " |      Dummy docstring. Reason: Missing doxygen\n",
      " |  \n",
      " |  num_edges = Mesh_num_edges(...)\n",
      " |      Dummy docstring. Reason: Missing doxygen\n",
      " |  \n",
      " |  num_entities = Mesh_num_entities(...)\n",
      " |      Dummy docstring. Reason: Missing doxygen\n",
      " |  \n",
      " |  num_faces = Mesh_num_faces(...)\n",
      " |      Dummy docstring. Reason: Missing doxygen\n",
      " |  \n",
      " |  num_facets = Mesh_num_facets(...)\n",
      " |      Dummy docstring. Reason: Missing doxygen\n",
      " |  \n",
      " |  num_vertices = Mesh_num_vertices(...)\n",
      " |      Dummy docstring. Reason: Missing doxygen\n",
      " |  \n",
      " |  order = Mesh_order(...)\n",
      " |      Dummy docstring. Reason: Missing doxygen\n",
      " |  \n",
      " |  ordered = Mesh_ordered(...)\n",
      " |      Dummy docstring. Reason: Missing doxygen\n",
      " |  \n",
      " |  renumber_by_color = Mesh_renumber_by_color(...)\n",
      " |      Dummy docstring. Reason: Missing doxygen\n",
      " |  \n",
      " |  rmax = Mesh_rmax(...)\n",
      " |      Dummy docstring. Reason: Missing doxygen\n",
      " |  \n",
      " |  rmin = Mesh_rmin(...)\n",
      " |      Dummy docstring. Reason: Missing doxygen\n",
      " |  \n",
      " |  rotate = Mesh_rotate(...)\n",
      " |      Dummy docstring. Reason: Missing doxygen\n",
      " |  \n",
      " |  size = Mesh_size(...)\n",
      " |      Dummy docstring. Reason: Missing doxygen\n",
      " |  \n",
      " |  size_global = Mesh_size_global(...)\n",
      " |      Dummy docstring. Reason: Missing doxygen\n",
      " |  \n",
      " |  smooth = Mesh_smooth(...)\n",
      " |      Dummy docstring. Reason: Missing doxygen\n",
      " |  \n",
      " |  smooth_boundary = Mesh_smooth_boundary(...)\n",
      " |      Dummy docstring. Reason: Missing doxygen\n",
      " |  \n",
      " |  snap_boundary = Mesh_snap_boundary(...)\n",
      " |      Dummy docstring. Reason: Missing doxygen\n",
      " |  \n",
      " |  topology = Mesh_topology(...)\n",
      " |      Dummy docstring. Reason: Missing doxygen\n",
      " |  \n",
      " |  translate = Mesh_translate(...)\n",
      " |      Dummy docstring. Reason: Missing doxygen\n",
      " |  \n",
      " |  type = Mesh_type(...)\n",
      " |      Dummy docstring. Reason: Missing doxygen\n",
      " |  \n",
      " |  ufl_cell(self)\n",
      " |      Returns the ufl cell of the mesh.\n",
      " |  \n",
      " |  ufl_coordinate_element(self)\n",
      " |      Return the finite element of the coordinate vector field of this domain.\n",
      " |  \n",
      " |  ufl_domain(self)\n",
      " |      Returns the ufl domain corresponding to the mesh.\n",
      " |  \n",
      " |  ufl_id(self)\n",
      " |      Returns an id that UFL can use to decide if two objects are the same.\n",
      " |  \n",
      " |  ----------------------------------------------------------------------\n",
      " |  Methods inherited from dolfin.cpp.common.Variable:\n",
      " |  \n",
      " |  __str__ = Variable___str__(...)\n",
      " |      Missing docstring\n",
      " |  \n",
      " |  id = Variable_id(...)\n",
      " |      Dummy docstring. Reason: Missing doxygen\n",
      " |  \n",
      " |  label = Variable_label(...)\n",
      " |      Dummy docstring. Reason: Missing doxygen\n",
      " |  \n",
      " |  name = Variable_name(...)\n",
      " |      Dummy docstring. Reason: Missing doxygen\n",
      " |  \n",
      " |  rename = Variable_rename(...)\n",
      " |      Dummy docstring. Reason: Missing doxygen\n",
      " |  \n",
      " |  str = Variable_str(...)\n",
      " |      Dummy docstring. Reason: Missing doxygen\n",
      " |  \n",
      " |  ----------------------------------------------------------------------\n",
      " |  Data descriptors inherited from dolfin.cpp.common.Variable:\n",
      " |  \n",
      " |  __dict__\n",
      " |      dictionary for instance variables (if defined)\n",
      " |  \n",
      " |  __weakref__\n",
      " |      list of weak references to the object (if defined)\n",
      " |  \n",
      " |  parameters\n",
      " |  \n",
      " |  ----------------------------------------------------------------------\n",
      " |  Methods inherited from HierarchicalMesh:\n",
      " |  \n",
      " |  child = HierarchicalMesh__child(...)\n",
      " |  \n",
      " |  clear_child = HierarchicalMesh_clear_child(...)\n",
      " |  \n",
      " |  depth = HierarchicalMesh_depth(...)\n",
      " |  \n",
      " |  has_child = HierarchicalMesh_has_child(...)\n",
      " |  \n",
      " |  has_parent = HierarchicalMesh_has_parent(...)\n",
      " |  \n",
      " |  leaf_node = HierarchicalMesh__leaf_node(...)\n",
      " |  \n",
      " |  parent = HierarchicalMesh__parent(...)\n",
      " |  \n",
      " |  root_node = HierarchicalMesh__root_node(...)\n",
      " |  \n",
      " |  set_child = HierarchicalMesh_set_child(...)\n",
      " |  \n",
      " |  set_parent = HierarchicalMesh_set_parent(...)\n",
      "\n"
     ]
    }
   ],
   "source": [
    "help(UnitSquareMesh)"
   ]
  },
  {
   "cell_type": "markdown",
   "metadata": {},
   "source": [
    "This is the simplest way to define a mesh. Complicated geometries are defined using a seperate mesh file. Here one uses a separate `preprocessor` program to create such a file. This is not discussed right now for beginners."
   ]
  },
  {
   "cell_type": "markdown",
   "metadata": {},
   "source": [
    "## Defining function space"
   ]
  },
  {
   "cell_type": "markdown",
   "metadata": {},
   "source": [
    "Now lets define a functions over this mesh."
   ]
  },
  {
   "cell_type": "code",
   "execution_count": 6,
   "metadata": {
    "collapsed": true
   },
   "outputs": [],
   "source": [
    "# Defining function space\n",
    "V = FunctionSpace(mesh, \"Lagrange\",1)"
   ]
  },
  {
   "cell_type": "code",
   "execution_count": 7,
   "metadata": {},
   "outputs": [
    {
     "data": {
      "text/plain": [
       "FunctionSpace(Mesh(VectorElement(FiniteElement('Lagrange', triangle, 1), dim=2), 0), FiniteElement('Lagrange', triangle, 1))"
      ]
     },
     "execution_count": 7,
     "metadata": {},
     "output_type": "execute_result"
    }
   ],
   "source": [
    "V"
   ]
  },
  {
   "cell_type": "markdown",
   "metadata": {},
   "source": [
    "The command `FunctionSpace` takes three arguments\n",
    "* First argument is the mesh defined\n",
    "* Second argument is the type of element, here \"Lagrange\" implying the standard Lagrange family of elements\n",
    "* Third argument signifies the degree of basis fucntion on the element"
   ]
  },
  {
   "cell_type": "markdown",
   "metadata": {},
   "source": [
    "`Lagrange` with degree `1` is the standard linear Lagrange element:\n",
    "* A triangle with nodes at three vertices"
   ]
  },
  {
   "cell_type": "markdown",
   "metadata": {},
   "source": [
    "## Defining boundary condition"
   ]
  },
  {
   "cell_type": "markdown",
   "metadata": {},
   "source": [
    "* Using the `Expression` object, a mathematical function can be represented.\n",
    "* This object takes a string as input for the formula following the C++ syntax"
   ]
  },
  {
   "cell_type": "code",
   "execution_count": 39,
   "metadata": {},
   "outputs": [
    {
     "name": "stderr",
     "output_type": "stream",
     "text": [
      "--- Instant: compiling ---\n"
     ]
    },
    {
     "ename": "FileNotFoundError",
     "evalue": "[Errno 2] No such file or directory: 'cmake'",
     "output_type": "error",
     "traceback": [
      "\u001b[0;31m---------------------------------------------------------------------------\u001b[0m",
      "\u001b[0;31mFileNotFoundError\u001b[0m                         Traceback (most recent call last)",
      "\u001b[0;32m<ipython-input-39-d480a5def8c7>\u001b[0m in \u001b[0;36m<module>\u001b[0;34m()\u001b[0m\n\u001b[0;32m----> 1\u001b[0;31m \u001b[0mf0\u001b[0m \u001b[0;34m=\u001b[0m \u001b[0mExpression\u001b[0m\u001b[0;34m(\u001b[0m\u001b[0;34m\"sin(x[0]) + cos(x[1])\"\u001b[0m\u001b[0;34m)\u001b[0m\u001b[0;34m\u001b[0m\u001b[0m\n\u001b[0m",
      "\u001b[0;32m~/anaconda/envs/fenicsproject/lib/python3.6/site-packages/dolfin/functions/expression.py\u001b[0m in \u001b[0;36m__new__\u001b[0;34m(cls, cppcode, *args, **kwargs)\u001b[0m\n\u001b[1;32m    677\u001b[0m                                                 \u001b[0;34m[\u001b[0m\u001b[0mgeneric_function_members\u001b[0m\u001b[0;34m]\u001b[0m\u001b[0;34m,\u001b[0m\u001b[0;34m\u001b[0m\u001b[0m\n\u001b[1;32m    678\u001b[0m                                                 \u001b[0;34m[\u001b[0m\u001b[0mmesh_function_members\u001b[0m\u001b[0;34m]\u001b[0m\u001b[0;34m,\u001b[0m\u001b[0;34m\u001b[0m\u001b[0m\n\u001b[0;32m--> 679\u001b[0;31m                                                 mpi_comm=kwargs.get(\"mpi_comm\"))\n\u001b[0m\u001b[1;32m    680\u001b[0m         \u001b[0mcpp_base\u001b[0m\u001b[0;34m,\u001b[0m \u001b[0mmembers\u001b[0m \u001b[0;34m=\u001b[0m \u001b[0mcpp_base\u001b[0m\u001b[0;34m[\u001b[0m\u001b[0;36m0\u001b[0m\u001b[0;34m]\u001b[0m\u001b[0;34m,\u001b[0m \u001b[0mmembers\u001b[0m\u001b[0;34m[\u001b[0m\u001b[0;36m0\u001b[0m\u001b[0;34m]\u001b[0m\u001b[0;34m\u001b[0m\u001b[0m\n\u001b[1;32m    681\u001b[0m \u001b[0;34m\u001b[0m\u001b[0m\n",
      "\u001b[0;32m~/anaconda/envs/fenicsproject/lib/python3.6/site-packages/dolfin/compilemodules/expressions.py\u001b[0m in \u001b[0;36mcompile_expressions\u001b[0;34m(cppargs, generic_function_members, mesh_function_members, mpi_comm)\u001b[0m\n\u001b[1;32m    264\u001b[0m         \u001b[0;34m\"\\n\\n\"\u001b[0m\u001b[0;34m.\u001b[0m\u001b[0mjoin\u001b[0m\u001b[0;34m(\u001b[0m\u001b[0mcode_snippets\u001b[0m\u001b[0;34m)\u001b[0m\u001b[0;34m,\u001b[0m \u001b[0mclassnames\u001b[0m\u001b[0;34m,\u001b[0m\u001b[0;34m\u001b[0m\u001b[0m\n\u001b[1;32m    265\u001b[0m         \u001b[0madditional_declarations\u001b[0m\u001b[0;34m=\u001b[0m\u001b[0;34m\"\\n\"\u001b[0m\u001b[0;34m.\u001b[0m\u001b[0mjoin\u001b[0m\u001b[0;34m(\u001b[0m\u001b[0madditional_declarations\u001b[0m\u001b[0;34m)\u001b[0m\u001b[0;34m,\u001b[0m\u001b[0;34m\u001b[0m\u001b[0m\n\u001b[0;32m--> 266\u001b[0;31m         mpi_comm=mpi_comm)\n\u001b[0m\u001b[1;32m    267\u001b[0m \u001b[0;34m\u001b[0m\u001b[0m\n\u001b[1;32m    268\u001b[0m     \u001b[0;32mreturn\u001b[0m \u001b[0mexpression_classes\u001b[0m\u001b[0;34m,\u001b[0m \u001b[0mall_members\u001b[0m\u001b[0;34m\u001b[0m\u001b[0m\n",
      "\u001b[0;32m~/anaconda/envs/fenicsproject/lib/python3.6/site-packages/dolfin/compilemodules/expressions.py\u001b[0m in \u001b[0;36mcompile_expression_code\u001b[0;34m(code, classnames, module_name, additional_declarations, mpi_comm)\u001b[0m\n\u001b[1;32m    181\u001b[0m     compiled_module = compile_extension_module(\n\u001b[1;32m    182\u001b[0m         \u001b[0mcode\u001b[0m\u001b[0;34m,\u001b[0m \u001b[0madditional_declarations\u001b[0m\u001b[0;34m=\u001b[0m\u001b[0madditional_declarations\u001b[0m\u001b[0;34m,\u001b[0m\u001b[0;34m\u001b[0m\u001b[0m\n\u001b[0;32m--> 183\u001b[0;31m         mpi_comm=mpi_comm)\n\u001b[0m\u001b[1;32m    184\u001b[0m \u001b[0;34m\u001b[0m\u001b[0m\n\u001b[1;32m    185\u001b[0m     \u001b[0;31m# Get the compiled class\u001b[0m\u001b[0;34m\u001b[0m\u001b[0;34m\u001b[0m\u001b[0m\n",
      "\u001b[0;32m~/anaconda/envs/fenicsproject/lib/python3.6/site-packages/dolfin/compilemodules/jit.py\u001b[0m in \u001b[0;36mmpi_jit\u001b[0;34m(*args, **kwargs)\u001b[0m\n\u001b[1;32m     68\u001b[0m         \u001b[0;31m# Just call JIT compiler when running in serial\u001b[0m\u001b[0;34m\u001b[0m\u001b[0;34m\u001b[0m\u001b[0m\n\u001b[1;32m     69\u001b[0m         \u001b[0;32mif\u001b[0m \u001b[0mMPI\u001b[0m\u001b[0;34m.\u001b[0m\u001b[0msize\u001b[0m\u001b[0;34m(\u001b[0m\u001b[0mmpi_comm\u001b[0m\u001b[0;34m)\u001b[0m \u001b[0;34m==\u001b[0m \u001b[0;36m1\u001b[0m\u001b[0;34m:\u001b[0m\u001b[0;34m\u001b[0m\u001b[0m\n\u001b[0;32m---> 70\u001b[0;31m             \u001b[0;32mreturn\u001b[0m \u001b[0mlocal_jit\u001b[0m\u001b[0;34m(\u001b[0m\u001b[0;34m*\u001b[0m\u001b[0margs\u001b[0m\u001b[0;34m,\u001b[0m \u001b[0;34m**\u001b[0m\u001b[0mkwargs\u001b[0m\u001b[0;34m)\u001b[0m\u001b[0;34m\u001b[0m\u001b[0m\n\u001b[0m\u001b[1;32m     71\u001b[0m \u001b[0;34m\u001b[0m\u001b[0m\n\u001b[1;32m     72\u001b[0m         \u001b[0;31m# Default status (0 == ok, 1 == fail)\u001b[0m\u001b[0;34m\u001b[0m\u001b[0;34m\u001b[0m\u001b[0m\n",
      "\u001b[0;32m~/anaconda/envs/fenicsproject/lib/python3.6/site-packages/dolfin/compilemodules/compilemodule.py\u001b[0m in \u001b[0;36mcompile_extension_module\u001b[0;34m(code, module_name, additional_declarations, additional_system_headers, mpi_comm, **instant_kwargs)\u001b[0m\n\u001b[1;32m    601\u001b[0m             \u001b[0mcode\u001b[0m\u001b[0;34m=\u001b[0m\u001b[0mcode\u001b[0m\u001b[0;34m,\u001b[0m\u001b[0;34m\u001b[0m\u001b[0m\n\u001b[1;32m    602\u001b[0m             \u001b[0madditional_declarations\u001b[0m\u001b[0;34m=\u001b[0m\u001b[0madditional_declarations\u001b[0m\u001b[0;34m,\u001b[0m\u001b[0;34m\u001b[0m\u001b[0m\n\u001b[0;32m--> 603\u001b[0;31m             **instant_kwargs)\n\u001b[0m\u001b[1;32m    604\u001b[0m \u001b[0;34m\u001b[0m\u001b[0m\n\u001b[1;32m    605\u001b[0m     \u001b[0msys\u001b[0m\u001b[0;34m.\u001b[0m\u001b[0mstdout\u001b[0m\u001b[0;34m.\u001b[0m\u001b[0mflush\u001b[0m\u001b[0;34m(\u001b[0m\u001b[0;34m)\u001b[0m\u001b[0;34m\u001b[0m\u001b[0m\n",
      "\u001b[0;32m~/anaconda/envs/fenicsproject/lib/python3.6/site-packages/instant/build.py\u001b[0m in \u001b[0;36mbuild_module\u001b[0;34m(modulename, source_directory, code, init_code, additional_definitions, additional_declarations, sources, wrap_headers, local_headers, system_headers, include_dirs, library_dirs, libraries, swigargs, swig_include_dirs, cppargs, lddargs, object_files, arrays, generate_interface, generate_setup, cmake_packages, signature, cache_dir)\u001b[0m\n\u001b[1;32m    575\u001b[0m         \u001b[0;31m# Recompile if necessary\u001b[0m\u001b[0;34m\u001b[0m\u001b[0;34m\u001b[0m\u001b[0m\n\u001b[1;32m    576\u001b[0m         recompile(modulename, module_path, new_compilation_checksum,\n\u001b[0;32m--> 577\u001b[0;31m                   build_system)\n\u001b[0m\u001b[1;32m    578\u001b[0m \u001b[0;34m\u001b[0m\u001b[0m\n\u001b[1;32m    579\u001b[0m         \u001b[0;31m# --- Load, cache, and return module\u001b[0m\u001b[0;34m\u001b[0m\u001b[0;34m\u001b[0m\u001b[0m\n",
      "\u001b[0;32m~/anaconda/envs/fenicsproject/lib/python3.6/site-packages/instant/build.py\u001b[0m in \u001b[0;36mrecompile\u001b[0;34m(modulename, module_path, new_compilation_checksum, build_system)\u001b[0m\n\u001b[1;32m    149\u001b[0m             \u001b[0;31m#cmd = \"cmake .\";\u001b[0m\u001b[0;34m\u001b[0m\u001b[0;34m\u001b[0m\u001b[0m\n\u001b[1;32m    150\u001b[0m             \u001b[0minstant_debug\u001b[0m\u001b[0;34m(\u001b[0m\u001b[0;34m\"cmd = %s\"\u001b[0m \u001b[0;34m%\u001b[0m \u001b[0mcmd\u001b[0m\u001b[0;34m)\u001b[0m\u001b[0;34m\u001b[0m\u001b[0m\n\u001b[0;32m--> 151\u001b[0;31m             \u001b[0mret\u001b[0m\u001b[0;34m,\u001b[0m \u001b[0moutput\u001b[0m \u001b[0;34m=\u001b[0m \u001b[0mget_status_output\u001b[0m\u001b[0;34m(\u001b[0m\u001b[0mcmd\u001b[0m\u001b[0;34m)\u001b[0m\u001b[0;34m\u001b[0m\u001b[0m\n\u001b[0m\u001b[1;32m    152\u001b[0m             \u001b[0mwrite_file\u001b[0m\u001b[0;34m(\u001b[0m\u001b[0mcompile_log_filename\u001b[0m\u001b[0;34m,\u001b[0m \u001b[0moutput\u001b[0m\u001b[0;34m)\u001b[0m\u001b[0;34m\u001b[0m\u001b[0m\n\u001b[1;32m    153\u001b[0m             \u001b[0;32mif\u001b[0m \u001b[0mret\u001b[0m \u001b[0;34m!=\u001b[0m \u001b[0;36m0\u001b[0m\u001b[0;34m:\u001b[0m\u001b[0;34m\u001b[0m\u001b[0m\n",
      "\u001b[0;32m~/anaconda/envs/fenicsproject/lib/python3.6/site-packages/instant/output.py\u001b[0m in \u001b[0;36mget_status_output\u001b[0;34m(cmd, input, cwd, env)\u001b[0m\n\u001b[1;32m    150\u001b[0m         \u001b[0;31m#       http://www.openfabrics.org/downloads/OFED/release_notes/OFED_3.12_rc1_release_notes#3.03\u001b[0m\u001b[0;34m\u001b[0m\u001b[0;34m\u001b[0m\u001b[0m\n\u001b[1;32m    151\u001b[0m         pipe = subprocess.Popen(cmd, shell=False, cwd=cwd, env=env, stdout=subprocess.PIPE,\n\u001b[0;32m--> 152\u001b[0;31m                      stderr=subprocess.STDOUT)\n\u001b[0m\u001b[1;32m    153\u001b[0m \u001b[0;34m\u001b[0m\u001b[0m\n\u001b[1;32m    154\u001b[0m         \u001b[0;34m(\u001b[0m\u001b[0moutput\u001b[0m\u001b[0;34m,\u001b[0m \u001b[0merrout\u001b[0m\u001b[0;34m)\u001b[0m \u001b[0;34m=\u001b[0m \u001b[0mpipe\u001b[0m\u001b[0;34m.\u001b[0m\u001b[0mcommunicate\u001b[0m\u001b[0;34m(\u001b[0m\u001b[0minput\u001b[0m\u001b[0;34m=\u001b[0m\u001b[0minput\u001b[0m\u001b[0;34m)\u001b[0m\u001b[0;34m\u001b[0m\u001b[0m\n",
      "\u001b[0;32m~/anaconda/envs/fenicsproject/lib/python3.6/subprocess.py\u001b[0m in \u001b[0;36m__init__\u001b[0;34m(self, args, bufsize, executable, stdin, stdout, stderr, preexec_fn, close_fds, shell, cwd, env, universal_newlines, startupinfo, creationflags, restore_signals, start_new_session, pass_fds, encoding, errors)\u001b[0m\n\u001b[1;32m    705\u001b[0m                                 \u001b[0mc2pread\u001b[0m\u001b[0;34m,\u001b[0m \u001b[0mc2pwrite\u001b[0m\u001b[0;34m,\u001b[0m\u001b[0;34m\u001b[0m\u001b[0m\n\u001b[1;32m    706\u001b[0m                                 \u001b[0merrread\u001b[0m\u001b[0;34m,\u001b[0m \u001b[0merrwrite\u001b[0m\u001b[0;34m,\u001b[0m\u001b[0;34m\u001b[0m\u001b[0m\n\u001b[0;32m--> 707\u001b[0;31m                                 restore_signals, start_new_session)\n\u001b[0m\u001b[1;32m    708\u001b[0m         \u001b[0;32mexcept\u001b[0m\u001b[0;34m:\u001b[0m\u001b[0;34m\u001b[0m\u001b[0m\n\u001b[1;32m    709\u001b[0m             \u001b[0;31m# Cleanup if the child failed starting.\u001b[0m\u001b[0;34m\u001b[0m\u001b[0;34m\u001b[0m\u001b[0m\n",
      "\u001b[0;32m~/anaconda/envs/fenicsproject/lib/python3.6/subprocess.py\u001b[0m in \u001b[0;36m_execute_child\u001b[0;34m(self, args, executable, preexec_fn, close_fds, pass_fds, cwd, env, startupinfo, creationflags, shell, p2cread, p2cwrite, c2pread, c2pwrite, errread, errwrite, restore_signals, start_new_session)\u001b[0m\n\u001b[1;32m   1324\u001b[0m                             \u001b[0;32melse\u001b[0m\u001b[0;34m:\u001b[0m\u001b[0;34m\u001b[0m\u001b[0m\n\u001b[1;32m   1325\u001b[0m                                 \u001b[0merr_msg\u001b[0m \u001b[0;34m+=\u001b[0m \u001b[0;34m': '\u001b[0m \u001b[0;34m+\u001b[0m \u001b[0mrepr\u001b[0m\u001b[0;34m(\u001b[0m\u001b[0morig_executable\u001b[0m\u001b[0;34m)\u001b[0m\u001b[0;34m\u001b[0m\u001b[0m\n\u001b[0;32m-> 1326\u001b[0;31m                     \u001b[0;32mraise\u001b[0m \u001b[0mchild_exception_type\u001b[0m\u001b[0;34m(\u001b[0m\u001b[0merrno_num\u001b[0m\u001b[0;34m,\u001b[0m \u001b[0merr_msg\u001b[0m\u001b[0;34m)\u001b[0m\u001b[0;34m\u001b[0m\u001b[0m\n\u001b[0m\u001b[1;32m   1327\u001b[0m                 \u001b[0;32mraise\u001b[0m \u001b[0mchild_exception_type\u001b[0m\u001b[0;34m(\u001b[0m\u001b[0merr_msg\u001b[0m\u001b[0;34m)\u001b[0m\u001b[0;34m\u001b[0m\u001b[0m\n\u001b[1;32m   1328\u001b[0m \u001b[0;34m\u001b[0m\u001b[0m\n",
      "\u001b[0;31mFileNotFoundError\u001b[0m: [Errno 2] No such file or directory: 'cmake'"
     ]
    }
   ],
   "source": [
    "f0 = Expression(\"sin(x[0]) + cos(x[1])\")"
   ]
  },
  {
   "cell_type": "markdown",
   "metadata": {},
   "source": [
    "## Trial and test space"
   ]
  },
  {
   "cell_type": "code",
   "execution_count": 11,
   "metadata": {
    "collapsed": true
   },
   "outputs": [],
   "source": [
    "u = TrialFunction(V)\n",
    "v = TestFunction(V)"
   ]
  },
  {
   "cell_type": "code",
   "execution_count": 12,
   "metadata": {},
   "outputs": [
    {
     "name": "stdout",
     "output_type": "stream",
     "text": [
      "v_1 v_0\n"
     ]
    }
   ],
   "source": [
    "print(u,v)"
   ]
  }
 ],
 "metadata": {
  "kernelspec": {
   "display_name": "Python 3",
   "language": "python",
   "name": "python3"
  },
  "language_info": {
   "codemirror_mode": {
    "name": "ipython",
    "version": 3
   },
   "file_extension": ".py",
   "mimetype": "text/x-python",
   "name": "python",
   "nbconvert_exporter": "python",
   "pygments_lexer": "ipython3",
   "version": "3.6.1"
  }
 },
 "nbformat": 4,
 "nbformat_minor": 2
}
